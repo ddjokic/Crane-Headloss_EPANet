{
 "cells": [
  {
   "cell_type": "markdown",
   "metadata": {},
   "source": [
    "##Pump Sizing Calculation\n",
    "\n",
    "<u>Note: </u>\n",
    "\n",
    "Hydraulic Power of the pump is calculated. If motor rating is required in early stage, divide it with 0.7 (pump efficiency)."
   ]
  },
  {
   "cell_type": "code",
   "execution_count": null,
   "metadata": {},
   "outputs": [],
   "source": [
    "\n",
    "pump_tag = \"P-AAAA\"\n",
    "\n",
    "#Required flow, Q, in [m**3/h]:\n",
    "Q=150\n",
    "\n",
    "#Fluid Properties - Sea Water, 20degC\n",
    "ro = 1025 #kg/m**3, specific gravity\n",
    "nu = 1.044e-06  #m**2/s, kinematic viscosity\n",
    "vp = 2400  #Pa, vapour pressure\n",
    "\n",
    "#Calculated headloss, H in [m] in Suction and Pressure piping:\n",
    "HS = 2.955\n",
    "HP = 17.5981\n",
    "\n",
    "#Head to be delivered by pump in [m]:\n",
    "HPump = HP-HS\n",
    "\n",
    "#Pump absolute suction pressure:\n",
    "\n",
    "ps = 9.81*ro*HS  # [Pa]\n",
    "\n",
    "#Net Positive Suction Head available\n",
    "NPSHa = ps-vp\n",
    "\n",
    "#Hydraulic Power [kW]:\n",
    "\n",
    "HPower = HPump*Q*ro*9.81/(3.6*10**6)\n",
    "\n",
    "#*****Results*****\n",
    "\n",
    "print \"Pump ID: \", pump_tag\n",
    "print \"Flow [m**3/h] = \", Q\n",
    "print \"Fluid Density [kg/m**3]: \", ro\n",
    "print \"Fluid Kinematic Viscosty [m**2/s]: \", nu\n",
    "print \"Vapor Pressure [Pa]: \", vp\n",
    "print \"*****Results*****\"\n",
    "print \"Pump Differential Head [m]: \", HPump\n",
    "print \"Pump Differential Pressure [bar]: \", HPump*ro*9.81/(10**5)\n",
    "print \"NPSHa [bar]: \", NPSHa/(10**5)\n",
    "print \"NPSHa [m]: \", NPSHa/(ro*9.81)\n",
    "print \"Pump Hydrulic Power [kW]: \", HPower"
   ]
  },
  {
   "cell_type": "markdown",
   "metadata": {},
   "source": [
    "<b>Literature: </b>\n",
    "\n",
    "1. Pump Sizing: Bridging the Gap Between Theory and Practice, Sean Moran, Chemical Engineering Practice (CEP), Dec 2016 (https://www.aiche.org/sites/default/files/cep/20161238_r.pdf)"
   ]
  }
 ],
 "metadata": {
  "kernelspec": {
   "display_name": "Python 2",
   "language": "python",
   "name": "python2"
  },
  "language_info": {
   "codemirror_mode": {
    "name": "ipython",
    "version": 2
   },
   "file_extension": ".py",
   "mimetype": "text/x-python",
   "name": "python",
   "nbconvert_exporter": "python",
   "pygments_lexer": "ipython2",
   "version": "2.7.14"
  }
 },
 "nbformat": 4,
 "nbformat_minor": 2
}
